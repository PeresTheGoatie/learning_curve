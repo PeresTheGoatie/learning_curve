{
 "cells": [
  {
   "cell_type": "code",
   "execution_count": 4,
   "metadata": {},
   "outputs": [],
   "source": [
    "# HI this is a python programm to the basic game of rock paper scissors.\n",
    "#\n"
   ]
  },
  {
   "cell_type": "code",
   "execution_count": 7,
   "metadata": {},
   "outputs": [],
   "source": [
    "# we create a list of the play options first\n",
    "plays_ = [\"Rock\", \"Paper\",\"Scissors\"]\n"
   ]
  },
  {
   "cell_type": "code",
   "execution_count": null,
   "metadata": {},
   "outputs": [
    {
     "name": "stdin",
     "output_type": "stream",
     "text": [
      "Rock Paper Scissors?  o\n"
     ]
    },
    {
     "name": "stdout",
     "output_type": "stream",
     "text": [
      "please type a valid option!!\n"
     ]
    },
    {
     "name": "stdin",
     "output_type": "stream",
     "text": [
      "Rock Paper Scissors?  Rock\n"
     ]
    },
    {
     "name": "stdout",
     "output_type": "stream",
     "text": [
      "the player wins  Rock  breaks the  Scissors\n"
     ]
    }
   ],
   "source": [
    "# we want to assign to the computer that we want him to choose between the 3 options\n",
    "from random import randint\n",
    "pcOption = plays_[randint(0,2)]\n",
    "\n",
    "# the player will be at false at start\n",
    "player_ = False\n",
    "\n",
    "\n",
    "#we want a loop soo we can play multiple times\n",
    "while player_ == False:\n",
    "    player_ = input(\"Rock Paper Scissors? \")\n",
    "    if player_ == pcOption:\n",
    "        print(\"Tie!\")\n",
    "    elif player_ == \"Rock\":\n",
    "        if pcOption == \"Paper\":\n",
    "            print(\"you lose \", pcOption, \" wraps the \", player_ )\n",
    "        else: \n",
    "            print(\"the player wins \", player_ , \" breaks the \" , pcOption )\n",
    "    elif player_ == \"Paper\":\n",
    "        if pcOption == \"Scissors\":\n",
    "            print(\"you lose \", pcOption , \"cuts through \", player_ )\n",
    "        else:\n",
    "            print(\"you win \", player_, \"wraps the \", pcOption)\n",
    "    elif player_ == \"Scissors\":\n",
    "        if pcOption == \"Rock\":\n",
    "            print(\"you lose \", pcOption, \" smacks \", player_)\n",
    "        else:\n",
    "            print(\"you win \", player_, \" cuts through \" , pcOption)\n",
    "    else:\n",
    "        print(\"please type a valid option!!\")\n",
    "        \n",
    "    player_ = False\n",
    "    pcOption = plays_[randint(0,2)]"
   ]
  },
  {
   "cell_type": "code",
   "execution_count": null,
   "metadata": {},
   "outputs": [],
   "source": []
  }
 ],
 "metadata": {
  "kernelspec": {
   "display_name": "Python 3",
   "language": "python",
   "name": "python3"
  },
  "language_info": {
   "codemirror_mode": {
    "name": "ipython",
    "version": 3
   },
   "file_extension": ".py",
   "mimetype": "text/x-python",
   "name": "python",
   "nbconvert_exporter": "python",
   "pygments_lexer": "ipython3",
   "version": "3.7.3"
  }
 },
 "nbformat": 4,
 "nbformat_minor": 4
}
